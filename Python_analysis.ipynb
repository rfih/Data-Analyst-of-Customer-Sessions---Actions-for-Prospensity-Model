{
 "cells": [
  {
   "cell_type": "markdown",
   "id": "374367d8",
   "metadata": {},
   "source": [
    "# Take Home Test | Data Science | Dibimbing DS DA 33B | Rizky Febri Ibra Habibie |"
   ]
  },
  {
   "cell_type": "code",
   "execution_count": null,
   "id": "fbde15f1",
   "metadata": {},
   "outputs": [],
   "source": []
  }
 ],
 "metadata": {
  "language_info": {
   "name": "python"
  }
 },
 "nbformat": 4,
 "nbformat_minor": 5
}
